{
 "cells": [
  {
   "cell_type": "markdown",
   "id": "038e3adb",
   "metadata": {},
   "source": [
    "# Predicting user new rating on codeforces"
   ]
  },
  {
   "cell_type": "code",
   "execution_count": 1,
   "id": "84794d3c",
   "metadata": {},
   "outputs": [],
   "source": [
    "import requests\n",
    "import pandas as pd\n",
    "import os\n",
    "import time\n",
    "from typing import List, Dict, Any, Optional\n",
    "import numpy as np\n",
    "import joblib # Required for saving and loading the model\n",
    "\n",
    "from sklearn.model_selection import train_test_split\n",
    "from sklearn.linear_model import LinearRegression, Ridge\n",
    "from sklearn.preprocessing import PolynomialFeatures\n",
    "from sklearn.pipeline import Pipeline\n",
    "from sklearn.ensemble import RandomForestRegressor\n",
    "from sklearn.neighbors import KNeighborsRegressor\n",
    "from sklearn.metrics import mean_squared_error\n",
    "\n",
    "RANDOM_STATE = 42"
   ]
  },
  {
   "cell_type": "markdown",
   "id": "e8068f57",
   "metadata": {},
   "source": [
    "## 1. Data Collection: Creating Dataset using Contest List (`dataset_1.csv`)"
   ]
  },
  {
   "cell_type": "markdown",
   "id": "explanation_data_1",
   "metadata": {},
   "source": [
    "This section fetches rating change data from specific Codeforces contests. We use **`ratingDelta`** ($\\text{newRating} - \\text{oldRating}$) as the target variable for improved model robustness. The **`contestId`** is retained as a feature, recognizing its potential importance for contest age/difficulty."
   ]
  },
  {
   "cell_type": "code",
   "execution_count": 2,
   "id": "4080ad32",
   "metadata": {},
   "outputs": [
    {
     "name": "stdout",
     "output_type": "stream",
     "text": [
      "Created data directory: data_for_user_rating_prediction\n"
     ]
    }
   ],
   "source": [
    "# --- Create Output Directory for CSV and Define Contest List ---\n",
    "output_file_path_1 = 'data_for_user_rating_prediction/dataset_1.csv'\n",
    "output_dir = os.path.dirname(output_file_path_1)\n",
    "if output_dir and not os.path.exists(output_dir):\n",
    "    os.makedirs(output_dir)\n",
    "    print(f\"Created data directory: {output_dir}\")\n",
    "    \n",
    "contestId_list = [1000, 1955, 1956, 1253, 1500, 1957]"
   ]
  },
  {
   "cell_type": "code",
   "execution_count": 3,
   "id": "c03cbf9a",
   "metadata": {},
   "outputs": [
    {
     "name": "stdout",
     "output_type": "stream",
     "text": [
      "Fetching data for Contest ID: 1000...\n",
      "Fetching data for Contest ID: 1955...\n",
      "Fetching data for Contest ID: 1956...\n",
      "Fetching data for Contest ID: 1253...\n",
      "Fetching data for Contest ID: 1500...\n",
      "Fetching data for Contest ID: 1957...\n"
     ]
    }
   ],
   "source": [
    "df1 = pd.DataFrame()\n",
    "for contestId in contestId_list:\n",
    "    url = f\"https://codeforces.com/api/contest.ratingChanges?contestId={contestId}\"\n",
    "    print(f\"Fetching data for Contest ID: {contestId}...\")\n",
    "    \n",
    "    try:\n",
    "        resp = requests.get(url, timeout=10)\n",
    "        resp.raise_for_status() \n",
    "        data = resp.json()\n",
    "    except requests.exceptions.RequestException as e:\n",
    "        print(f\"Error fetching data for Contest ID {contestId}: {e}\")\n",
    "        continue \n",
    "    \n",
    "    if data.get('status') != 'OK':\n",
    "        print(f\"API request for Contest ID {contestId} failed: {data.get('comment', 'No comment provided')}. Skipping.\")\n",
    "        continue \n",
    "    \n",
    "    if 'result' not in data or not data['result']:\n",
    "        print(f\"No rating changes found for Contest ID: {contestId}. Skipping.\")\n",
    "        continue\n",
    "\n",
    "    df_temp = pd.DataFrame(data['result'])\n",
    "    df_temp['contestId'] = contestId \n",
    "    df1 = pd.concat([df1, df_temp], ignore_index=True)\n",
    "    time.sleep(0.5)"
   ]
  },
  {
   "cell_type": "code",
   "execution_count": 4,
   "id": "ba0dd3fa",
   "metadata": {},
   "outputs": [
    {
     "name": "stdout",
     "output_type": "stream",
     "text": [
      "\n",
      "Successfully saved 59994 rating change entries to: data_for_user_rating_prediction/dataset_1.csv 🎉\n",
      "   contestId                                        contestName  rank  \\\n",
      "0       1000  Educational Codeforces Round 46 (Rated for Div...     1   \n",
      "1       1000  Educational Codeforces Round 46 (Rated for Div...     2   \n",
      "2       1000  Educational Codeforces Round 46 (Rated for Div...     3   \n",
      "3       1000  Educational Codeforces Round 46 (Rated for Div...     4   \n",
      "4       1000  Educational Codeforces Round 46 (Rated for Div...     5   \n",
      "\n",
      "   oldRating  newRating  ratingDelta  Div. 1  Div. 2  Div. 3  Div. 4  unknown  \n",
      "0       1959       2241          282       0       1       0       0        0  \n",
      "1       1919       2181          262       0       1       0       0        0  \n",
      "2       2083       2277          194       0       1       0       0        0  \n",
      "3       1916       2147          231       0       1       0       0        0  \n",
      "4       1915       2127          212       0       1       0       0        0  \n"
     ]
    }
   ],
   "source": [
    "# --- Final Processing and Feature Engineering on df1 ---\n",
    "if df1.empty:\n",
    "    print(\"No data was successfully fetched to process. Exiting.\")\n",
    "else:\n",
    "    # Drop non-feature columns, keeping 'contestId'\n",
    "    df1 = df1.drop(columns=['handle', 'ratingUpdateTimeSeconds'], errors='ignore')\n",
    "    \n",
    "    # FEATURE ENGINEERING: Delta Calculation (Target Variable)\n",
    "    df1['ratingDelta'] = df1['newRating'] - df1['oldRating']\n",
    "    \n",
    "    # FEATURE ENGINEERING: Creating Division indicators\n",
    "    for div in [1, 2, 3, 4]:\n",
    "        df1[f'Div. {div}'] = 0\n",
    "\n",
    "    df1['Div. 3'] = df1['contestName'].str.contains('Div. 3', case=False, na=False).astype(int)\n",
    "    df1['Div. 2'] = df1['contestName'].str.contains('Div. 2', case=False, na=False).astype(int)\n",
    "    df1['Div. 1'] = df1['contestName'].str.contains('Div. 1', case=False, na=False).astype(int)\n",
    "    df1['Div. 4'] = df1['contestName'].str.contains('Div. 4', case=False, na=False).astype(int)\n",
    "\n",
    "    # 'unknown' is 1 if none of the explicit divisions were found\n",
    "    df1['unknown'] = (df1[['Div. 1', 'Div. 2', 'Div. 3', 'Div. 4']].sum(axis=1) == 0).astype(int)\n",
    "\n",
    "    df1.to_csv(output_file_path_1, index=False)\n",
    "    print(f\"\\nSuccessfully saved {len(df1)} rating change entries to: {output_file_path_1} 🎉\")\n",
    "    print(df1.head())"
   ]
  },
  {
   "cell_type": "markdown",
   "id": "fabcc537",
   "metadata": {},
   "source": [
    "## 2. Data Collection: Creating Dataset using List of Handles (`dataset_2.csv`)"
   ]
  },
  {
   "cell_type": "code",
   "execution_count": 5,
   "id": "e16e9b0e",
   "metadata": {},
   "outputs": [],
   "source": [
    "# --- Configuration ---\n",
    "handles_list = ['sangam2ishra', 'sangammishra', 'tourist', 'jiangly', 'Benq']\n",
    "output_file_path_2 = 'data_for_user_rating_prediction/dataset_2.csv'\n",
    "API_URL = \"https://codeforces.com/api/user.rating\""
   ]
  },
  {
   "cell_type": "code",
   "execution_count": 6,
   "id": "714223ec",
   "metadata": {},
   "outputs": [
    {
     "name": "stdout",
     "output_type": "stream",
     "text": [
      "Fetching rating history for handle: sangam2ishra...\n",
      "Fetching rating history for handle: sangammishra...\n",
      "Fetching rating history for handle: tourist...\n",
      "Fetching rating history for handle: jiangly...\n",
      "Fetching rating history for handle: Benq...\n"
     ]
    }
   ],
   "source": [
    "all_ratings_df_list = [] \n",
    "output_dir = os.path.dirname(output_file_path_2)\n",
    "if output_dir and not os.path.exists(output_dir):\n",
    "    os.makedirs(output_dir)\n",
    "\n",
    "for handle in handles_list:\n",
    "    url = f\"{API_URL}?handle={handle}\"\n",
    "    print(f\"Fetching rating history for handle: {handle}...\")\n",
    "    \n",
    "    try:\n",
    "        resp = requests.get(url, timeout=10)\n",
    "        resp.raise_for_status() \n",
    "        data = resp.json()\n",
    "    except requests.exceptions.RequestException as e:\n",
    "        print(f\"Error fetching data for {handle}: {e}. Skipping.\")\n",
    "        continue \n",
    "    \n",
    "    if data.get('status') != 'OK':\n",
    "        print(f\"API request for {handle} failed: {data.get('comment', 'No comment provided')}. Skipping.\")\n",
    "        continue \n",
    "    \n",
    "    if 'result' in data and data['result']:\n",
    "        all_ratings_df_list.extend(data['result'])\n",
    "    else:\n",
    "        print(f\"No rating changes found for handle: {handle}.\")\n",
    "        \n",
    "    time.sleep(0.5) \n"
   ]
  },
  {
   "cell_type": "code",
   "execution_count": 7,
   "id": "c6cfdc66",
   "metadata": {},
   "outputs": [
    {
     "name": "stdout",
     "output_type": "stream",
     "text": [
      "\n",
      "Successfully retrieved 728 total rating change entries.\n",
      "Successfully saved 728 rating change entries to: data_for_user_rating_prediction/dataset_2.csv 🎉\n",
      "   contestId                                        contestName   rank  \\\n",
      "0       1851                      Codeforces Round 888 (Div. 3)   9413   \n",
      "1       1849  Educational Codeforces Round 152 (Rated for Di...  10560   \n",
      "2       1855                      Codeforces Round 889 (Div. 2)   5517   \n",
      "3       1856  Codeforces Round 890 (Div. 2) supported by Con...   9812   \n",
      "4       1857                      Codeforces Round 891 (Div. 3)   8948   \n",
      "\n",
      "   oldRating  newRating  ratingDelta  Div. 1  Div. 2  Div. 3  Div. 4  unknown  \n",
      "0          0        427          427       0       0       1       0        0  \n",
      "1        427        695          268       0       1       0       0        0  \n",
      "2        695        956          261       0       1       0       0        0  \n",
      "3        956       1047           91       0       1       0       0        0  \n",
      "4       1047       1129           82       0       0       1       0        0  \n"
     ]
    }
   ],
   "source": [
    "# --- Merging and Final Processing on df2 ---\n",
    "\n",
    "if not all_ratings_df_list:\n",
    "    print(\"No data was successfully fetched to process. Exiting.\")\n",
    "    df2 = pd.DataFrame()\n",
    "else:\n",
    "    df2 = pd.DataFrame(all_ratings_df_list)\n",
    "    print(f\"\\nSuccessfully retrieved {len(df2)} total rating change entries.\")\n",
    "\n",
    "    # Drop specified columns, keeping contestId\n",
    "    df2 = df2.drop(columns=['ratingUpdateTimeSeconds', 'handle'], errors='ignore')\n",
    "    \n",
    "    # FEATURE ENGINEERING: Delta Calculation (Target Variable)\n",
    "    df2['ratingDelta'] = df2['newRating'] - df2['oldRating']\n",
    "\n",
    "    # FEATURE ENGINEERING: Creating Division indicators based on 'contestName'\n",
    "    for div in [1, 2, 3, 4]:\n",
    "        df2[f'Div. {div}'] = 0\n",
    "\n",
    "    df2['Div. 3'] = df2['contestName'].str.contains('Div. 3', case=False, na=False).astype(int)\n",
    "    df2['Div. 2'] = df2['contestName'].str.contains('Div. 2', case=False, na=False).astype(int)\n",
    "    df2['Div. 1'] = df2['contestName'].str.contains('Div. 1', case=False, na=False).astype(int)\n",
    "    df2['Div. 4'] = df2['contestName'].str.contains('Div. 4', case=False, na=False).astype(int)\n",
    "\n",
    "    # 'unknown' is 1 if none of the explicit divisions were found\n",
    "    df2['unknown'] = (df2[['Div. 1', 'Div. 2', 'Div. 3', 'Div. 4']].sum(axis=1) == 0).astype(int)\n",
    "\n",
    "    # --- Final Save ---\n",
    "    df2.to_csv(output_file_path_2, index=False)\n",
    "    print(f\"Successfully saved {len(df2)} rating change entries to: {output_file_path_2} 🎉\")\n",
    "    print(df2.head())"
   ]
  },
  {
   "cell_type": "markdown",
   "id": "706e1658",
   "metadata": {},
   "source": [
    "## 3. Model Preparation: Defining Features (X) and Target (y)"
   ]
  },
  {
   "cell_type": "code",
   "execution_count": 8,
   "id": "321d5f87",
   "metadata": {},
   "outputs": [
    {
     "name": "stdout",
     "output_type": "stream",
     "text": [
      "Features (X1) for Dataset 1: ['contestId', 'rank', 'oldRating', 'Div. 1', 'Div. 2', 'Div. 3', 'Div. 4', 'unknown']\n"
     ]
    }
   ],
   "source": [
    "if not df1.empty:\n",
    "    # X includes oldRating, contestId, rank, and division features\n",
    "    X1 = df1.drop(columns=['contestName', 'newRating', 'ratingDelta'])\n",
    "    # y is the target delta\n",
    "    y1 = df1['ratingDelta']\n",
    "    print(f\"Features (X1) for Dataset 1: {X1.columns.tolist()}\")"
   ]
  },
  {
   "cell_type": "code",
   "execution_count": 9,
   "id": "8a378593",
   "metadata": {},
   "outputs": [
    {
     "name": "stdout",
     "output_type": "stream",
     "text": [
      "Features (X2) for Dataset 2: ['contestId', 'rank', 'oldRating', 'Div. 1', 'Div. 2', 'Div. 3', 'Div. 4', 'unknown']\n"
     ]
    }
   ],
   "source": [
    "if not df2.empty:\n",
    "    X2 = df2.drop(columns=['contestName', 'newRating', 'ratingDelta'])\n",
    "    y2 = df2['ratingDelta']\n",
    "    print(f\"Features (X2) for Dataset 2: {X2.columns.tolist()}\")"
   ]
  },
  {
   "cell_type": "markdown",
   "id": "706e1659",
   "metadata": {},
   "source": [
    "## 4. Model Training and Evaluation Functions"
   ]
  },
  {
   "cell_type": "code",
   "execution_count": 10,
   "id": "a332557f",
   "metadata": {},
   "outputs": [],
   "source": [
    "def split_dataset(X_data: pd.DataFrame, y_data: pd.Series):\n",
    "    \"\"\"Splits the data into Train (60%), Cross-Validation (20%), and Test (20%).\"\"\"\n",
    "    X_temp, X_test, y_temp, y_test = train_test_split(\n",
    "        X_data, y_data, test_size=0.2, random_state=RANDOM_STATE\n",
    "    )\n",
    "    X_train, X_cv, y_train, y_cv = train_test_split(\n",
    "        X_temp, y_temp, test_size=0.25, random_state=RANDOM_STATE\n",
    "    )\n",
    "\n",
    "    # Replace NaNs with 0 \n",
    "    X_train = X_train.fillna(0)\n",
    "    X_cv = X_cv.fillna(0)\n",
    "    X_test = X_test.fillna(0)\n",
    "    \n",
    "    print(\"Train set:\", X_train.shape)\n",
    "    print(\"Cross-validation set:\", X_cv.shape)\n",
    "    print(\"Test set:\", X_test.shape)\n",
    "    \n",
    "    return X_train, X_cv, X_test, y_train, y_cv, y_test"
   ]
  },
  {
   "cell_type": "code",
   "execution_count": 11,
   "id": "55acc3ee",
   "metadata": {},
   "outputs": [],
   "source": [
    "def train_models(X_train: pd.DataFrame, y_train: pd.Series, X_cv: pd.DataFrame, y_cv: pd.Series, X_test: pd.DataFrame, y_test: pd.Series, dataset_name: str):\n",
    "    \"\"\"Trains models, evaluates them on CV set, and saves ALL models and the best model.\"\"\"\n",
    "    print(\"\\n--- Starting Model Training ---\")\n",
    "    \n",
    "    # Define models/pipelines\n",
    "    linearModel = LinearRegression()\n",
    "    ridge = Ridge(alpha=1.0)\n",
    "    randomForestregressor = RandomForestRegressor(n_estimators=100, random_state=RANDOM_STATE, n_jobs=-1)\n",
    "    knn = KNeighborsRegressor(n_neighbors=5, weights='distance', n_jobs=-1)\n",
    "    polynomialDegree2 = Pipeline([('poly', PolynomialFeatures(degree=2, include_bias=False)), ('linear', LinearRegression())])\n",
    "    polynomialDegree3 = Pipeline([('poly', PolynomialFeatures(degree=3, include_bias=False)), ('linear', LinearRegression())])\n",
    "    polynomialDegree4 = Pipeline([('poly', PolynomialFeatures(degree=4, include_bias=False)), ('linear', LinearRegression())])\n",
    "\n",
    "    models = {\n",
    "        'Linear Regression': linearModel,\n",
    "        'Ridge Regression': ridge,\n",
    "        'Poly Deg 2': polynomialDegree2,\n",
    "        'Poly Deg 3': polynomialDegree3,\n",
    "        'Poly Deg 4': polynomialDegree4,\n",
    "        'Random Forest': randomForestregressor,\n",
    "        'K-Nearest Neighbors': knn\n",
    "    }\n",
    "\n",
    "    best_model_name = None\n",
    "    min_cv_error = float('inf')\n",
    "    best_model = None\n",
    "\n",
    "    # Train and evaluate on CV set\n",
    "    for name, model in models.items():\n",
    "        print(f\"Training {name}...\")\n",
    "        model.fit(X_train, y_train)\n",
    "        y_cv_pred = model.predict(X_cv)\n",
    "        rmse = np.sqrt(mean_squared_error(y_cv, y_cv_pred))\n",
    "        print(f\"  {name} CV RMSE (Delta): {rmse:.2f}\")\n",
    "\n",
    "        # Track the best model\n",
    "        if rmse < min_cv_error:\n",
    "            min_cv_error = rmse\n",
    "            best_model_name = name\n",
    "            best_model = model\n",
    "            \n",
    "    print(f\"\\n🏆 Best Model (by CV RMSE): {best_model_name} with RMSE: {min_cv_error:.2f}\")\n",
    "\n",
    "    # Report error on test data for the best model\n",
    "    y_test_pred = best_model.predict(X_test)\n",
    "    test_rmse = np.sqrt(mean_squared_error(y_test, y_test_pred))\n",
    "    print(f\"Test RMSE for {best_model_name}: {test_rmse:.2f}\")\n",
    "    \n",
    "    # --- Model Saving Implementation (Saving ALL Models) ---\n",
    "    base_dir = 'models_user_rating_prediction'\n",
    "    save_dir = os.path.join(base_dir, dataset_name)\n",
    "    \n",
    "    if not os.path.exists(save_dir):\n",
    "        os.makedirs(save_dir)\n",
    "        print(f\"Created model directory: {save_dir}\")\n",
    "        \n",
    "    print(\"\\n--- Saving All Models ---\")\n",
    "    # 1. Save ALL models\n",
    "    for name, model in models.items():\n",
    "        # Clean up model name for filename\n",
    "        safe_name = name.replace(' ', '_').replace('-', '_')\n",
    "        model_filename = os.path.join(save_dir, f'{safe_name}_{dataset_name}.pkl')\n",
    "        try:\n",
    "            joblib.dump(model, model_filename)\n",
    "            print(f\"  Saved {name} to {model_filename}\")\n",
    "        except Exception as e:\n",
    "            print(f\"  ❌ Failed to save {name}: {e}\")\n",
    "\n",
    "    # 2. Save the best model specifically for easy retrieval\n",
    "    best_model_filename = os.path.join(save_dir, f'best_model_{dataset_name}.pkl')\n",
    "    try:\n",
    "        joblib.dump(best_model, best_model_filename)\n",
    "        print(f\"\\n✅ Successfully saved BEST MODEL ({best_model_name}) to {best_model_filename}\")\n",
    "    except Exception as e:\n",
    "        print(f\"\\n❌ Failed to save best model: {e}\")\n",
    "        \n",
    "    return models, best_model_name"
   ]
  },
  {
   "cell_type": "code",
   "execution_count": 12,
   "id": "7b8a41bf",
   "metadata": {},
   "outputs": [],
   "source": [
    "def get_contest_division(contestId: int) -> Optional[Dict[str, int]]:\n",
    "    \"\"\"Fetches contest list and determines the division features for a given contestId.\"\"\"\n",
    "    url = \"https://codeforces.com/api/contest.list\"\n",
    "    try:\n",
    "        resp = requests.get(url, timeout=10)\n",
    "        resp.raise_for_status()\n",
    "        data = resp.json()\n",
    "    except requests.exceptions.RequestException as e:\n",
    "        print(f\"Error fetching contest list: {e}\")\n",
    "        return None\n",
    "    \n",
    "    if data.get('status') != 'OK':\n",
    "        print(\"API request for contest list failed.\")\n",
    "        return None\n",
    "    \n",
    "    target_contest = next((c for c in data['result'] if c.get('id') == contestId), None)\n",
    "    \n",
    "    if not target_contest:\n",
    "        print(f\"Contest ID {contestId} not found.\")\n",
    "        return None\n",
    "\n",
    "    contest_name = target_contest.get('name', '')\n",
    "    \n",
    "    # Form datapoint features for divisions\n",
    "    features = {\n",
    "        'Div. 1': 1 if 'Div. 1' in contest_name else 0,\n",
    "        'Div. 2': 1 if 'Div. 2' in contest_name else 0,\n",
    "        'Div. 3': 1 if 'Div. 3' in contest_name else 0,\n",
    "        'Div. 4': 1 if 'Div. 4' in contest_name else 0\n",
    "    }\n",
    "    \n",
    "    # Calculate 'unknown' division\n",
    "    features['unknown'] = 1 if sum(features.values()) == 0 else 0\n",
    "    \n",
    "    print(f\"Contest Name: {contest_name}, Division Features: {features}\")\n",
    "    return features\n",
    "\n",
    "\n",
    "def predict_new_rating(models: Dict[str, Any], best_model_name: str, X_template: pd.DataFrame, old_rating: int, contestId: int, rank: int):\n",
    "    \"\"\"Forms a datapoint, predicts the rating delta, and calculates the new rating.\"\"\"\n",
    "    division_features = get_contest_division(contestId)\n",
    "    if division_features is None:\n",
    "        return\n",
    "    \n",
    "    prediction_data = pd.DataFrame(columns=X_template.columns).fillna(0)\n",
    "    \n",
    "    prediction_data.loc[0, 'oldRating'] = old_rating\n",
    "    prediction_data.loc[0, 'contestId'] = contestId\n",
    "    prediction_data.loc[0, 'rank'] = rank\n",
    "    \n",
    "    # Apply division features\n",
    "    for key, value in division_features.items():\n",
    "        if key in prediction_data.columns:\n",
    "            prediction_data.loc[0, key] = value\n",
    "        \n",
    "    X_predict = prediction_data.iloc[[0]]\n",
    "    \n",
    "    print(f\"\\n--- Prediction for oldRating={old_rating}, ContestId={contestId}, Rank={rank} ---\")\n",
    "\n",
    "    # Predict using each model\n",
    "    predictions = {}\n",
    "    for name, model in models.items():\n",
    "        try:\n",
    "            # Predicts the delta\n",
    "            pred_delta = model.predict(X_predict.fillna(0))[0]\n",
    "            # New Rating = Old Rating + Predicted Delta\n",
    "            pred_new_rating = round(old_rating + pred_delta)\n",
    "            predictions[name] = {\n",
    "                'delta': round(pred_delta),\n",
    "                'new_rating': pred_new_rating\n",
    "            }\n",
    "        except Exception as e:\n",
    "            predictions[name] = f\"Error: {e}\"\n",
    "    \n",
    "    print(\"\\nPredictions from All Models (Predicting Delta):\")\n",
    "    for name, result in predictions.items():\n",
    "        if isinstance(result, dict):\n",
    "             print(f\"  {name}: Delta={result['delta']}, New Rating={result['new_rating']}\")\n",
    "        else:\n",
    "             print(f\"  {name}: {result}\")\n",
    "        \n",
    "    best_result = predictions.get(best_model_name, {'new_rating': 'N/A'})\n",
    "    print(f\"\\n✨ Predicted newRating (Best Model: {best_model_name}): {best_result.get('new_rating', 'N/A')}\")"
   ]
  },
  {
   "cell_type": "markdown",
   "id": "706e1660",
   "metadata": {},
   "source": [
    "## 5. Execution for Dataset 1 (`X1/y1`)"
   ]
  },
  {
   "cell_type": "code",
   "execution_count": 13,
   "id": "1f5a92fd",
   "metadata": {},
   "outputs": [
    {
     "name": "stdout",
     "output_type": "stream",
     "text": [
      "\n",
      "*** Running for Dataset 1 (Contest-based Data) ***\n",
      "Train set: (35996, 8)\n",
      "Cross-validation set: (11999, 8)\n",
      "Test set: (11999, 8)\n",
      "\n",
      "--- Starting Model Training ---\n",
      "Training Linear Regression...\n",
      "  Linear Regression CV RMSE (Delta): 70.48\n",
      "Training Ridge Regression...\n",
      "  Ridge Regression CV RMSE (Delta): 70.48\n",
      "Training Poly Deg 2...\n",
      "  Poly Deg 2 CV RMSE (Delta): 36.35\n",
      "Training Poly Deg 3...\n",
      "  Poly Deg 3 CV RMSE (Delta): 32.81\n",
      "Training Poly Deg 4...\n",
      "  Poly Deg 4 CV RMSE (Delta): 31.02\n",
      "Training Random Forest...\n",
      "  Random Forest CV RMSE (Delta): 27.34\n",
      "Training K-Nearest Neighbors...\n",
      "  K-Nearest Neighbors CV RMSE (Delta): 33.28\n",
      "\n",
      "🏆 Best Model (by CV RMSE): Random Forest with RMSE: 27.34\n",
      "Test RMSE for Random Forest: 28.79\n",
      "Created model directory: models_user_rating_prediction/dataset1\n",
      "\n",
      "--- Saving All Models ---\n",
      "  Saved Linear Regression to models_user_rating_prediction/dataset1/Linear_Regression_dataset1.pkl\n",
      "  Saved Ridge Regression to models_user_rating_prediction/dataset1/Ridge_Regression_dataset1.pkl\n",
      "  Saved Poly Deg 2 to models_user_rating_prediction/dataset1/Poly_Deg_2_dataset1.pkl\n",
      "  Saved Poly Deg 3 to models_user_rating_prediction/dataset1/Poly_Deg_3_dataset1.pkl\n",
      "  Saved Poly Deg 4 to models_user_rating_prediction/dataset1/Poly_Deg_4_dataset1.pkl\n",
      "  Saved Random Forest to models_user_rating_prediction/dataset1/Random_Forest_dataset1.pkl\n",
      "  Saved K-Nearest Neighbors to models_user_rating_prediction/dataset1/K_Nearest_Neighbors_dataset1.pkl\n",
      "\n",
      "✅ Successfully saved BEST MODEL (Random Forest) to models_user_rating_prediction/dataset1/best_model_dataset1.pkl\n"
     ]
    }
   ],
   "source": [
    "if not df1.empty:\n",
    "    print(\"\\n*** Running for Dataset 1 (Contest-based Data) ***\")\n",
    "    \n",
    "    # 1. Split Data\n",
    "    X1_train, X1_cv, X1_test, y1_train, y1_cv, y1_test = split_dataset(X1, y1)\n",
    "    \n",
    "    # 2. Train Models and Save All Models\n",
    "    models_1, best_model_name_1 = train_models(\n",
    "        X1_train, y1_train, X1_cv, y1_cv, X1_test, y1_test, dataset_name='dataset1'\n",
    "    )"
   ]
  },
  {
   "cell_type": "markdown",
   "id": "5.2. Prediction Example 1",
   "metadata": {},
   "source": [
    "### 5.2. Prediction Example\n",
    "\n",
    "This section uses the best model trained on Dataset 1 to predict the new rating for a specific scenario (e.g., a user with a 1500 rating ranking 122nd in Contest ID 1956, which is a Div. 2 contest). The results from all trained models are displayed for comparison."
   ]
  },
  {
   "cell_type": "code",
   "execution_count": 14,
   "id": "prediction_1",
   "metadata": {},
   "outputs": [
    {
     "name": "stdout",
     "output_type": "stream",
     "text": [
      "Contest Name: Codeforces Round 939 (Div. 2), Division Features: {'Div. 1': 0, 'Div. 2': 1, 'Div. 3': 0, 'Div. 4': 0, 'unknown': 0}\n",
      "\n",
      "--- Prediction for oldRating=1500, ContestId=1956, Rank=122 ---\n",
      "\n",
      "Predictions from All Models (Predicting Delta):\n",
      "  Linear Regression: Delta=32, New Rating=1532\n",
      "  Ridge Regression: Delta=32, New Rating=1532\n",
      "  Poly Deg 2: Delta=114, New Rating=1614\n",
      "  Poly Deg 3: Delta=126, New Rating=1626\n",
      "  Poly Deg 4: Delta=178, New Rating=1678\n",
      "  Random Forest: Delta=251, New Rating=1751\n",
      "  K-Nearest Neighbors: Delta=188, New Rating=1688\n",
      "\n",
      "✨ Predicted newRating (Best Model: Random Forest): 1751\n"
     ]
    },
    {
     "name": "stderr",
     "output_type": "stream",
     "text": [
      "/tmp/ipykernel_645060/2481822996.py:65: FutureWarning: Downcasting object dtype arrays on .fillna, .ffill, .bfill is deprecated and will change in a future version. Call result.infer_objects(copy=False) instead. To opt-in to the future behavior, set `pd.set_option('future.no_silent_downcasting', True)`\n",
      "  pred_delta = model.predict(X_predict.fillna(0))[0]\n",
      "/tmp/ipykernel_645060/2481822996.py:65: FutureWarning: Downcasting object dtype arrays on .fillna, .ffill, .bfill is deprecated and will change in a future version. Call result.infer_objects(copy=False) instead. To opt-in to the future behavior, set `pd.set_option('future.no_silent_downcasting', True)`\n",
      "  pred_delta = model.predict(X_predict.fillna(0))[0]\n",
      "/tmp/ipykernel_645060/2481822996.py:65: FutureWarning: Downcasting object dtype arrays on .fillna, .ffill, .bfill is deprecated and will change in a future version. Call result.infer_objects(copy=False) instead. To opt-in to the future behavior, set `pd.set_option('future.no_silent_downcasting', True)`\n",
      "  pred_delta = model.predict(X_predict.fillna(0))[0]\n",
      "/tmp/ipykernel_645060/2481822996.py:65: FutureWarning: Downcasting object dtype arrays on .fillna, .ffill, .bfill is deprecated and will change in a future version. Call result.infer_objects(copy=False) instead. To opt-in to the future behavior, set `pd.set_option('future.no_silent_downcasting', True)`\n",
      "  pred_delta = model.predict(X_predict.fillna(0))[0]\n",
      "/tmp/ipykernel_645060/2481822996.py:65: FutureWarning: Downcasting object dtype arrays on .fillna, .ffill, .bfill is deprecated and will change in a future version. Call result.infer_objects(copy=False) instead. To opt-in to the future behavior, set `pd.set_option('future.no_silent_downcasting', True)`\n",
      "  pred_delta = model.predict(X_predict.fillna(0))[0]\n",
      "/tmp/ipykernel_645060/2481822996.py:65: FutureWarning: Downcasting object dtype arrays on .fillna, .ffill, .bfill is deprecated and will change in a future version. Call result.infer_objects(copy=False) instead. To opt-in to the future behavior, set `pd.set_option('future.no_silent_downcasting', True)`\n",
      "  pred_delta = model.predict(X_predict.fillna(0))[0]\n",
      "/tmp/ipykernel_645060/2481822996.py:65: FutureWarning: Downcasting object dtype arrays on .fillna, .ffill, .bfill is deprecated and will change in a future version. Call result.infer_objects(copy=False) instead. To opt-in to the future behavior, set `pd.set_option('future.no_silent_downcasting', True)`\n",
      "  pred_delta = model.predict(X_predict.fillna(0))[0]\n"
     ]
    }
   ],
   "source": [
    "if not df1.empty:\n",
    "    # Example: old_rating=1500, contestId=1956 (Div 2), rank=122\n",
    "    predict_new_rating(models_1, best_model_name_1, X1, old_rating=1500, contestId=1956, rank=122)"
   ]
  },
  {
   "cell_type": "markdown",
   "id": "706e1661",
   "metadata": {},
   "source": [
    "## 6. Execution for Dataset 2 (`X2/y2`)"
   ]
  },
  {
   "cell_type": "code",
   "execution_count": 15,
   "id": "e260bd60",
   "metadata": {},
   "outputs": [
    {
     "name": "stdout",
     "output_type": "stream",
     "text": [
      "\n",
      "*** Running for Dataset 2 (Handle-based Data) ***\n",
      "Train set: (436, 8)\n",
      "Cross-validation set: (146, 8)\n",
      "Test set: (146, 8)\n",
      "\n",
      "--- Starting Model Training ---\n",
      "Training Linear Regression...\n",
      "  Linear Regression CV RMSE (Delta): 94.97\n",
      "Training Ridge Regression...\n",
      "  Ridge Regression CV RMSE (Delta): 93.51\n",
      "Training Poly Deg 2...\n",
      "  Poly Deg 2 CV RMSE (Delta): 89.14\n",
      "Training Poly Deg 3...\n",
      "  Poly Deg 3 CV RMSE (Delta): 2900.16\n",
      "Training Poly Deg 4...\n",
      "  Poly Deg 4 CV RMSE (Delta): 76363.55\n",
      "Training Random Forest...\n",
      "  Random Forest CV RMSE (Delta): 35.77\n",
      "Training K-Nearest Neighbors...\n",
      "  K-Nearest Neighbors CV RMSE (Delta): 80.57\n",
      "\n",
      "🏆 Best Model (by CV RMSE): Random Forest with RMSE: 35.77\n",
      "Test RMSE for Random Forest: 65.51\n",
      "Created model directory: models_user_rating_prediction/dataset2\n",
      "\n",
      "--- Saving All Models ---\n",
      "  Saved Linear Regression to models_user_rating_prediction/dataset2/Linear_Regression_dataset2.pkl\n",
      "  Saved Ridge Regression to models_user_rating_prediction/dataset2/Ridge_Regression_dataset2.pkl\n",
      "  Saved Poly Deg 2 to models_user_rating_prediction/dataset2/Poly_Deg_2_dataset2.pkl\n",
      "  Saved Poly Deg 3 to models_user_rating_prediction/dataset2/Poly_Deg_3_dataset2.pkl\n",
      "  Saved Poly Deg 4 to models_user_rating_prediction/dataset2/Poly_Deg_4_dataset2.pkl\n",
      "  Saved Random Forest to models_user_rating_prediction/dataset2/Random_Forest_dataset2.pkl\n",
      "  Saved K-Nearest Neighbors to models_user_rating_prediction/dataset2/K_Nearest_Neighbors_dataset2.pkl\n",
      "\n",
      "✅ Successfully saved BEST MODEL (Random Forest) to models_user_rating_prediction/dataset2/best_model_dataset2.pkl\n"
     ]
    }
   ],
   "source": [
    "if not df2.empty:\n",
    "    print(\"\\n*** Running for Dataset 2 (Handle-based Data) ***\")\n",
    "\n",
    "    # 1. Split Data\n",
    "    X2_train, X2_cv, X2_test, y2_train, y2_cv, y2_test = split_dataset(X2, y2)\n",
    "\n",
    "    # 2. Train Models and Save All Models\n",
    "    models_2, best_model_name_2 = train_models(\n",
    "        X2_train, y2_train, X2_cv, y2_cv, X2_test, y2_test, dataset_name='dataset2'\n",
    "    )"
   ]
  },
  {
   "cell_type": "markdown",
   "id": "6.2. Prediction Example 2",
   "metadata": {},
   "source": [
    "### 6.2. Prediction Example\n",
    "\n",
    "This section uses the best model trained on Dataset 2 to predict the new rating for a specific scenario (e.g., a user with a 2000 rating ranking 332nd in Contest ID 1955, which is a Div. 1 contest). The results from all trained models are displayed for comparison."
   ]
  },
  {
   "cell_type": "code",
   "execution_count": 16,
   "id": "prediction_2",
   "metadata": {},
   "outputs": [
    {
     "name": "stdout",
     "output_type": "stream",
     "text": [
      "Contest Name: Codeforces Round 938 (Div. 3), Division Features: {'Div. 1': 0, 'Div. 2': 0, 'Div. 3': 1, 'Div. 4': 0, 'unknown': 0}\n",
      "\n",
      "--- Prediction for oldRating=2000, ContestId=1955, Rank=332 ---\n",
      "\n",
      "Predictions from All Models (Predicting Delta):\n",
      "  Linear Regression: Delta=117, New Rating=2117\n",
      "  Ridge Regression: Delta=121, New Rating=2121\n",
      "  Poly Deg 2: Delta=-46, New Rating=1954\n",
      "  Poly Deg 3: Delta=1013, New Rating=3013\n",
      "  Poly Deg 4: Delta=-1095, New Rating=905\n",
      "  Random Forest: Delta=28, New Rating=2028\n",
      "  K-Nearest Neighbors: Delta=39, New Rating=2039\n",
      "\n",
      "✨ Predicted newRating (Best Model: Random Forest): 2028\n"
     ]
    },
    {
     "name": "stderr",
     "output_type": "stream",
     "text": [
      "/tmp/ipykernel_645060/2481822996.py:65: FutureWarning: Downcasting object dtype arrays on .fillna, .ffill, .bfill is deprecated and will change in a future version. Call result.infer_objects(copy=False) instead. To opt-in to the future behavior, set `pd.set_option('future.no_silent_downcasting', True)`\n",
      "  pred_delta = model.predict(X_predict.fillna(0))[0]\n",
      "/tmp/ipykernel_645060/2481822996.py:65: FutureWarning: Downcasting object dtype arrays on .fillna, .ffill, .bfill is deprecated and will change in a future version. Call result.infer_objects(copy=False) instead. To opt-in to the future behavior, set `pd.set_option('future.no_silent_downcasting', True)`\n",
      "  pred_delta = model.predict(X_predict.fillna(0))[0]\n",
      "/tmp/ipykernel_645060/2481822996.py:65: FutureWarning: Downcasting object dtype arrays on .fillna, .ffill, .bfill is deprecated and will change in a future version. Call result.infer_objects(copy=False) instead. To opt-in to the future behavior, set `pd.set_option('future.no_silent_downcasting', True)`\n",
      "  pred_delta = model.predict(X_predict.fillna(0))[0]\n",
      "/tmp/ipykernel_645060/2481822996.py:65: FutureWarning: Downcasting object dtype arrays on .fillna, .ffill, .bfill is deprecated and will change in a future version. Call result.infer_objects(copy=False) instead. To opt-in to the future behavior, set `pd.set_option('future.no_silent_downcasting', True)`\n",
      "  pred_delta = model.predict(X_predict.fillna(0))[0]\n",
      "/tmp/ipykernel_645060/2481822996.py:65: FutureWarning: Downcasting object dtype arrays on .fillna, .ffill, .bfill is deprecated and will change in a future version. Call result.infer_objects(copy=False) instead. To opt-in to the future behavior, set `pd.set_option('future.no_silent_downcasting', True)`\n",
      "  pred_delta = model.predict(X_predict.fillna(0))[0]\n",
      "/tmp/ipykernel_645060/2481822996.py:65: FutureWarning: Downcasting object dtype arrays on .fillna, .ffill, .bfill is deprecated and will change in a future version. Call result.infer_objects(copy=False) instead. To opt-in to the future behavior, set `pd.set_option('future.no_silent_downcasting', True)`\n",
      "  pred_delta = model.predict(X_predict.fillna(0))[0]\n",
      "/tmp/ipykernel_645060/2481822996.py:65: FutureWarning: Downcasting object dtype arrays on .fillna, .ffill, .bfill is deprecated and will change in a future version. Call result.infer_objects(copy=False) instead. To opt-in to the future behavior, set `pd.set_option('future.no_silent_downcasting', True)`\n",
      "  pred_delta = model.predict(X_predict.fillna(0))[0]\n"
     ]
    }
   ],
   "source": [
    "if not df2.empty:\n",
    "    # Example: old_rating=2000, contestId=1955 (Div 1), rank=332\n",
    "    predict_new_rating(models_2, best_model_name_2, X2, old_rating=2000, contestId=1955, rank=332)"
   ]
  }
 ],
 "metadata": {
  "kernelspec": {
   "display_name": "Python (venv)",
   "language": "python",
   "name": "venv"
  },
  "language_info": {
   "codemirror_mode": {
    "name": "ipython",
    "version": 3
   },
   "file_extension": ".py",
   "mimetype": "text/x-python",
   "name": "python",
   "nbconvert_exporter": "python",
   "pygments_lexer": "ipython3",
   "version": "3.13.2"
  }
 },
 "nbformat": 4,
 "nbformat_minor": 5
}
